{
 "cells": [
  {
   "cell_type": "code",
   "execution_count": 4,
   "id": "0fae2111",
   "metadata": {},
   "outputs": [],
   "source": [
    "import torch"
   ]
  },
  {
   "cell_type": "code",
   "execution_count": null,
   "id": "3c90eb14",
   "metadata": {},
   "outputs": [
    {
     "name": "stdout",
     "output_type": "stream",
     "text": [
      "tensor(3)\n",
      "torch.Size([])\n",
      "0\n",
      "torch.int64\n",
      "tensor(-3.8736)\n",
      "torch.Size([])\n",
      "0\n",
      "torch.float32\n",
      "tensor([[[0.6464, 0.2190, 0.3491, 0.1715, 0.6927],\n",
      "         [0.5851, 0.8262, 0.7804, 0.0249, 0.2472],\n",
      "         [0.7990, 0.6928, 0.7007, 0.9647, 0.5964],\n",
      "         [0.3987, 0.9602, 0.1992, 0.3600, 0.0203]],\n",
      "\n",
      "        [[0.9545, 0.3374, 0.1573, 0.5573, 0.6754],\n",
      "         [0.3582, 0.1536, 0.7443, 0.3852, 0.6371],\n",
      "         [0.0181, 0.8723, 0.5822, 0.3664, 0.6135],\n",
      "         [0.0846, 0.2743, 0.4268, 0.8712, 0.1239]],\n",
      "\n",
      "        [[0.0787, 0.8582, 0.8458, 0.6987, 0.9896],\n",
      "         [0.4355, 0.4469, 0.0590, 0.6033, 0.0257],\n",
      "         [0.4188, 0.2952, 0.4162, 0.6849, 0.6183],\n",
      "         [0.0276, 0.8214, 0.0886, 0.9776, 0.7972]]])\n",
      "tensor(4.4621)\n",
      "torch.Size([])\n",
      "0\n",
      "torch.float32\n"
     ]
    }
   ],
   "source": [
    "# 0-D tensor\n",
    "scalar = torch.tensor(3)   \n",
    "print(scalar)       # tensor(3)\n",
    "print(scalar.shape) # torch.Size([])\n",
    "print(scalar.ndim)  # 0\n",
    "print(scalar.dtype) # torch.int64\n",
    "\n",
    "scalar2 = torch.randn(10).sum()\n",
    "print(scalar2)       # tensor(-0.6778)\n",
    "print(scalar2.shape) # torch.Size([])\n",
    "print(scalar2.ndim)  # 0\n",
    "print(scalar2.dtype) # torch.float32\n",
    "\n",
    "a = torch.rand((3,4,5))\n",
    "print(a)\n",
    "scalar3 = torch.norm(a)\n",
    "print(scalar3)       # tensor(4.4621)\n",
    "print(scalar3.shape) # torch.Size([])\n",
    "print(scalar3.ndim)  # 0\n",
    "print(scalar3.dtype) # torch.float32"
   ]
  },
  {
   "cell_type": "code",
   "execution_count": 12,
   "id": "7ea85bb2",
   "metadata": {},
   "outputs": [
    {
     "name": "stdout",
     "output_type": "stream",
     "text": [
      "tensor([1, 2, 3])\n",
      "torch.Size([3])\n",
      "1\n",
      "torch.int64\n",
      "tensor([4])\n",
      "torch.Size([1])\n",
      "1\n",
      "torch.int64\n"
     ]
    }
   ],
   "source": [
    "# 1-D tensor\n",
    "vector1 = torch.tensor([1,2,3]) # 0-D tensor가 1,2,3 인 배열\n",
    "print(vector1)       # tensor([1, 2, 3])\n",
    "print(vector1.shape) # torch.Size([3])\n",
    "print(vector1.ndim)  # 1\n",
    "print(vector1.dtype) # torch.int64\n",
    "\n",
    "vector2 = torch.randint(5, [1]) # 0-D tensor가 1개인 배열\n",
    "print(vector2)       # tensor([3]), 0-D 텐서인 tensor(3)과 다름\n",
    "print(vector2.shape) # torch.Size([1])\n",
    "print(vector2.ndim)  # 1\n",
    "print(vector2.dtype) # torch.int64"
   ]
  },
  {
   "cell_type": "code",
   "execution_count": 11,
   "id": "fce3cac1",
   "metadata": {},
   "outputs": [
    {
     "name": "stdout",
     "output_type": "stream",
     "text": [
      "tensor([[0., 0., 0., 0.],\n",
      "        [0., 0., 0., 0.],\n",
      "        [0., 0., 0., 0.]])\n",
      "torch.Size([3, 4])\n",
      "2\n",
      "torch.float32\n",
      "tensor([[1., 0., 0., 0.],\n",
      "        [0., 1., 0., 0.],\n",
      "        [0., 0., 1., 0.],\n",
      "        [0., 0., 0., 1.]], dtype=torch.float64)\n",
      "torch.Size([4, 4])\n",
      "2\n",
      "torch.float64\n"
     ]
    }
   ],
   "source": [
    "# 2-D tensor\n",
    "matrix1 = torch.zeros(3, 4) # 1-D tensor가 3개인 배열\n",
    "print(matrix1)\n",
    "print(matrix1.size()) # torch.Size([3, 4])\n",
    "print(matrix1.dim())  # 2\n",
    "print(matrix1.dtype)  # torch.float32\n",
    "\n",
    "matrix2 = torch.eye(4, dtype=torch.double)  # 1-D tensor가 4개인 배열\n",
    "print(matrix2)\n",
    "print(matrix2.size()) # torch.Size([4, 4])\n",
    "print(matrix2.dim())  # 2\n",
    "print(matrix2.dtype)  # torch.float64"
   ]
  },
  {
   "cell_type": "code",
   "execution_count": 16,
   "id": "c3d11739",
   "metadata": {},
   "outputs": [
    {
     "name": "stdout",
     "output_type": "stream",
     "text": [
      "tensor([[[4, 3, 4, 3],\n",
      "         [5, 0, 1, 3],\n",
      "         [3, 6, 8, 6]],\n",
      "\n",
      "        [[5, 3, 2, 1],\n",
      "         [1, 5, 0, 4],\n",
      "         [2, 0, 1, 6]]])\n",
      "tensor(76)\n",
      "tensor([[ 9,  6,  6,  4],\n",
      "        [ 6,  5,  1,  7],\n",
      "        [ 5,  6,  9, 12]])\n",
      "tensor([[12,  9, 13, 12],\n",
      "        [ 8,  8,  3, 11]])\n",
      "tensor([[14,  9, 23],\n",
      "        [11, 10,  9]])\n",
      "tensor([[14,  9, 23],\n",
      "        [11, 10,  9]])\n",
      "tensor([[12,  9, 13, 12],\n",
      "        [ 8,  8,  3, 11]])\n",
      "tensor([[ 9,  6,  6,  4],\n",
      "        [ 6,  5,  1,  7],\n",
      "        [ 5,  6,  9, 12]])\n"
     ]
    }
   ],
   "source": [
    "a = torch.randint(10, (2,3,4))\n",
    "print(a)\n",
    "\n",
    "# 전체 element 더하여 스칼라 텐서 생성됨, 결과는 0-D tensor\n",
    "result = a.sum()\n",
    "print(result)\n",
    "\n",
    "# dim-0차원 2개의 배열을 더함, 스칼라 탠서로 변하면서 차원이 사라짐 => 결과는 (3,4) shape의 탠서\n",
    "result = a.sum(dim=0)\n",
    "print(result)\n",
    "\n",
    "# dim-1차원 3개의 배열을 더함, 스칼라 텐서로 변하면서 해당 차원이 사라짐 => 결과는 (2,4) shape의 탠서\n",
    "result = a.sum(dim=1)\n",
    "print(result)\n",
    "\n",
    "# dim-2차원 4개의 배열을 더함, 스칼라 텐서로 변하면서 해당 차원이 사라짐 => 결과는 (2,3) shape의 탠서\n",
    "result = a.sum(dim=2)\n",
    "print(result)\n",
    "\n",
    "result = a.sum(dim=-1)\n",
    "print(result)\n",
    "result = a.sum(dim=-2)\n",
    "print(result)\n",
    "result = a.sum(dim=-3)\n",
    "print(result)\n",
    "                "
   ]
  }
 ],
 "metadata": {
  "kernelspec": {
   "display_name": "boostcamp",
   "language": "python",
   "name": "python3"
  },
  "language_info": {
   "codemirror_mode": {
    "name": "ipython",
    "version": 3
   },
   "file_extension": ".py",
   "mimetype": "text/x-python",
   "name": "python",
   "nbconvert_exporter": "python",
   "pygments_lexer": "ipython3",
   "version": "3.12.11"
  }
 },
 "nbformat": 4,
 "nbformat_minor": 5
}
