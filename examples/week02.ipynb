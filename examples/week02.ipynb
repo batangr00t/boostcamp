{
 "cells": [
  {
   "cell_type": "code",
   "execution_count": 2,
   "id": "3116db49",
   "metadata": {},
   "outputs": [
    {
     "name": "stdout",
     "output_type": "stream",
     "text": [
      "M=\n",
      "[[1 2 3]\n",
      " [4 5 6]]\n"
     ]
    },
    {
     "data": {
      "text/plain": [
       "(2, 3)"
      ]
     },
     "execution_count": 2,
     "metadata": {},
     "output_type": "execute_result"
    }
   ],
   "source": [
    "import numpy as np\n",
    "\n",
    "M = np.array([[1, 2, 3],\n",
    "              [4, 5, 6]])\n",
    "print(f\"M=\\n{M}\")\n",
    "[ [row[i] for row in M] for i in range(len(M[0]))]\n",
    "\n",
    "M.shape\n",
    "\n",
    "\n",
    "\n"
   ]
  },
  {
   "cell_type": "code",
   "execution_count": 11,
   "id": "299bd3bf",
   "metadata": {},
   "outputs": [
    {
     "name": "stdout",
     "output_type": "stream",
     "text": [
      "U=\n",
      "[[-0.21483724  0.88723069  0.40824829]\n",
      " [-0.52058739  0.24964395 -0.81649658]\n",
      " [-0.82633754 -0.38794278  0.40824829]]\n",
      "S=\n",
      "[1.68481034e+01 1.06836951e+00 3.35890790e-16]\n",
      "Vt=\n",
      "[[-0.47967118 -0.57236779 -0.66506441]\n",
      " [-0.77669099 -0.07568647  0.62531805]\n",
      " [-0.40824829  0.81649658 -0.40824829]]\n",
      "U=\n",
      "tensor([[-0.2148,  0.8872,  0.4082],\n",
      "        [-0.5206,  0.2496, -0.8165],\n",
      "        [-0.8263, -0.3879,  0.4082]], dtype=torch.float64)\n",
      "S=\n",
      "tensor([1.6848e+01, 1.0684e+00, 3.3589e-16], dtype=torch.float64)\n",
      "Vt=\n",
      "tensor([[-0.4797, -0.5724, -0.6651],\n",
      "        [-0.7767, -0.0757,  0.6253],\n",
      "        [-0.4082,  0.8165, -0.4082]], dtype=torch.float64)\n"
     ]
    }
   ],
   "source": [
    "import numpy as np\n",
    "import torch \n",
    "A = np.array([[1, 2, 3],\n",
    "                     [4, 5, 6],\n",
    "                     [7, 8, 9]])   \n",
    "\n",
    "U, S, Vt = np.linalg.svd(A, full_matrices=False)\n",
    "print(f\"U=\\n{U}\\nS=\\n{S}\\nVt=\\n{Vt}\")\n",
    "A = torch.from_numpy(A).to(torch.float64)\n",
    "U, S, Vt = torch.linalg.svd(A, full_matrices=False)\n",
    "print(f\"U=\\n{U}\\nS=\\n{S}\\nVt=\\n{Vt}\")"
   ]
  },
  {
   "cell_type": "code",
   "execution_count": null,
   "id": "ee2218f6",
   "metadata": {},
   "outputs": [],
   "source": []
  }
 ],
 "metadata": {
  "kernelspec": {
   "display_name": "boostcamp",
   "language": "python",
   "name": "python3"
  },
  "language_info": {
   "codemirror_mode": {
    "name": "ipython",
    "version": 3
   },
   "file_extension": ".py",
   "mimetype": "text/x-python",
   "name": "python",
   "nbconvert_exporter": "python",
   "pygments_lexer": "ipython3",
   "version": "3.12.11"
  }
 },
 "nbformat": 4,
 "nbformat_minor": 5
}
