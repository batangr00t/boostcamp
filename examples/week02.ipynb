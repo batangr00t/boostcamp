{
 "cells": [
  {
   "cell_type": "code",
   "execution_count": 2,
   "id": "3116db49",
   "metadata": {},
   "outputs": [
    {
     "name": "stdout",
     "output_type": "stream",
     "text": [
      "M=\n",
      "[[1 2 3]\n",
      " [4 5 6]]\n"
     ]
    },
    {
     "data": {
      "text/plain": [
       "(2, 3)"
      ]
     },
     "execution_count": 2,
     "metadata": {},
     "output_type": "execute_result"
    }
   ],
   "source": [
    "import numpy as np\n",
    "\n",
    "M = np.array([[1, 2, 3],\n",
    "              [4, 5, 6]])\n",
    "print(f\"M=\\n{M}\")\n",
    "[ [row[i] for row in M] for i in range(len(M[0]))]\n",
    "\n",
    "M.shape\n",
    "\n",
    "\n",
    "\n"
   ]
  },
  {
   "cell_type": "code",
   "execution_count": 11,
   "id": "299bd3bf",
   "metadata": {},
   "outputs": [
    {
     "name": "stdout",
     "output_type": "stream",
     "text": [
      "U=\n",
      "[[-0.21483724  0.88723069  0.40824829]\n",
      " [-0.52058739  0.24964395 -0.81649658]\n",
      " [-0.82633754 -0.38794278  0.40824829]]\n",
      "S=\n",
      "[1.68481034e+01 1.06836951e+00 3.35890790e-16]\n",
      "Vt=\n",
      "[[-0.47967118 -0.57236779 -0.66506441]\n",
      " [-0.77669099 -0.07568647  0.62531805]\n",
      " [-0.40824829  0.81649658 -0.40824829]]\n",
      "U=\n",
      "tensor([[-0.2148,  0.8872,  0.4082],\n",
      "        [-0.5206,  0.2496, -0.8165],\n",
      "        [-0.8263, -0.3879,  0.4082]], dtype=torch.float64)\n",
      "S=\n",
      "tensor([1.6848e+01, 1.0684e+00, 3.3589e-16], dtype=torch.float64)\n",
      "Vt=\n",
      "tensor([[-0.4797, -0.5724, -0.6651],\n",
      "        [-0.7767, -0.0757,  0.6253],\n",
      "        [-0.4082,  0.8165, -0.4082]], dtype=torch.float64)\n"
     ]
    }
   ],
   "source": [
    "import numpy as np\n",
    "import torch \n",
    "A = np.array([[1, 2, 3],\n",
    "                     [4, 5, 6],\n",
    "                     [7, 8, 9]])   \n",
    "\n",
    "U, S, Vt = np.linalg.svd(A, full_matrices=False)\n",
    "print(f\"U=\\n{U}\\nS=\\n{S}\\nVt=\\n{Vt}\")\n",
    "A = torch.from_numpy(A).to(torch.float64)\n",
    "U, S, Vt = torch.linalg.svd(A, full_matrices=False)\n",
    "print(f\"U=\\n{U}\\nS=\\n{S}\\nVt=\\n{Vt}\")"
   ]
  },
  {
   "cell_type": "code",
   "execution_count": 8,
   "id": "ee2218f6",
   "metadata": {},
   "outputs": [
    {
     "name": "stdout",
     "output_type": "stream",
     "text": [
      "[ 1. -5.  6.]\n"
     ]
    }
   ],
   "source": [
    "import numpy as np\n",
    "\n",
    "list(range(2))\n",
    "number_matrix = np.array([[4, -2],\n",
    "                  [1,  1]])\n",
    "\n",
    "coefficients = np.poly(number_matrix)\n",
    "print(coefficients)"
   ]
  },
  {
   "cell_type": "code",
   "execution_count": null,
   "id": "925a9b9b",
   "metadata": {},
   "outputs": [
    {
     "name": "stdout",
     "output_type": "stream",
     "text": [
      "U=[[-0.4472136  -0.89442719]\n",
      " [-0.89442719  0.4472136 ]]\n",
      "s=[8.36660027e+00 5.61733355e-16]\n",
      "Vt=[[-0.26726124 -0.53452248 -0.80178373]\n",
      " [ 0.94491118 -0.30854944 -0.10927077]\n",
      " [-0.18898224 -0.78681825  0.58753958]]\n",
      "v_1^T = [-0.26726124 -0.53452248 -0.80178373]\n",
      "v_2^T = [ 0.94491118 -0.30854944 -0.10927077]\n",
      "v_3^T = [-0.18898224 -0.78681825  0.58753958]\n",
      "1\n",
      "[[ 0.94491118 -0.18898224]\n",
      " [-0.30854944 -0.78681825]\n",
      " [-0.10927077  0.58753958]]\n"
     ]
    },
    {
     "data": {
      "text/plain": [
       "array([[ 2.22044605e-16, -2.22044605e-16],\n",
       "       [ 4.44089210e-16, -4.44089210e-16]])"
      ]
     },
     "execution_count": 25,
     "metadata": {},
     "output_type": "execute_result"
    }
   ],
   "source": [
    "import numpy as np\n",
    "\n",
    "# null space 구하기\n",
    "A = np.array([[1, 2, 3],\n",
    "              [2, 4, 6]])  # rank = 1인 행렬\n",
    "\n",
    "U, s, Vt = np.linalg.svd(A)\n",
    "print(f\"U={U}\")\n",
    "print(f\"s={s}\")\n",
    "print(f\"Vt={Vt}\")\n",
    "\n",
    "for i, row in enumerate(Vt):\n",
    "    print(f\"v_{i+1}^T = {row}\")\n",
    "tol = 1e-15\n",
    "rank = np.sum(s > tol)\n",
    "print(rank)\n",
    "V = Vt[rank:, :].T\n",
    "print(V)\n",
    "A@V\n",
    "# Eigenvalue is 1.0 and eigenvector corresponding to 1.0 is [1. 0. 0.]\n",
    "# Eigenvalue is 3.0 and eigenvector corresponding to 3.0 is [0. 1. 0.]\n",
    "# Eigenvalue is 2.0 and eigenvector corresponding to 2.0 is [0. 0. 1.]\n",
    "# Eigenvalue is 3.0000000000000018 and eigenvector corresponding to 3.0000000000000018 is [-0.  0. -1.]\n",
    "# Eigenvalue is 1.999999999999998 and eigenvector corresponding to 1.999999999999998 is [-1.  0. -0.]\n",
    "# Eigenvalue is 1.0000000000000002 and eigenvector corresponding to 1.0000000000000002 is [-0.  1. -0.]"
   ]
  },
  {
   "cell_type": "code",
   "execution_count": 26,
   "id": "088e1644",
   "metadata": {},
   "outputs": [
    {
     "name": "stdout",
     "output_type": "stream",
     "text": [
      "=== 일반적인 정사각 행렬 ===\n",
      "A =\n",
      "[[1 2]\n",
      " [3 4]]\n",
      "\n",
      "SVD:\n",
      "U (left singular vectors):\n",
      "[[-0.40455358 -0.9145143 ]\n",
      " [-0.9145143   0.40455358]]\n",
      "Singular values: [5.4649857  0.36596619]\n",
      "V^T (right singular vectors):\n",
      "[[-0.57604844 -0.81741556]\n",
      " [ 0.81741556 -0.57604844]]\n",
      "\n",
      "Eigendecomposition:\n",
      "Eigenvalues: [-0.37228132  5.37228132]\n",
      "Eigenvectors:\n",
      "[[-0.82456484 -0.41597356]\n",
      " [ 0.56576746 -0.90937671]]\n",
      "\n",
      "=== 비교 ===\n",
      "Singular vectors와 eigenvectors가 같은가?\n",
      "U와 eigenvectors: False\n",
      "V^T와 eigenvectors: False\n",
      "\n",
      "Singular values와 eigenvalues가 같은가?\n",
      "s: [5.4649857  0.36596619]\n",
      "eigenvals: [-0.37228132  5.37228132]\n",
      "같은가? False\n"
     ]
    }
   ],
   "source": [
    "import numpy as np\n",
    "\n",
    "def svd_vs_eigen_general():\n",
    "    \"\"\"일반적인 정사각 행렬에서 SVD vs Eigendecomposition\"\"\"\n",
    "    \n",
    "    # 일반적인 비대칭 정사각 행렬\n",
    "    A = np.array([[1, 2], \n",
    "                  [3, 4]])\n",
    "    \n",
    "    print(\"=== 일반적인 정사각 행렬 ===\")\n",
    "    print(\"A =\")\n",
    "    print(A)\n",
    "    \n",
    "    # SVD\n",
    "    U, s, Vh = np.linalg.svd(A)\n",
    "    print(f\"\\nSVD:\")\n",
    "    print(f\"U (left singular vectors):\\n{U}\")\n",
    "    print(f\"Singular values: {s}\")\n",
    "    print(f\"V^T (right singular vectors):\\n{Vh}\")\n",
    "    \n",
    "    # Eigendecomposition\n",
    "    eigenvals, eigenvecs = np.linalg.eig(A)\n",
    "    print(f\"\\nEigendecomposition:\")\n",
    "    print(f\"Eigenvalues: {eigenvals}\")\n",
    "    print(f\"Eigenvectors:\\n{eigenvecs}\")\n",
    "    \n",
    "    # 비교\n",
    "    print(f\"\\n=== 비교 ===\")\n",
    "    print(f\"Singular vectors와 eigenvectors가 같은가?\")\n",
    "    print(f\"U와 eigenvectors: {np.allclose(np.abs(U), np.abs(eigenvecs))}\")\n",
    "    print(f\"V^T와 eigenvectors: {np.allclose(np.abs(Vh), np.abs(eigenvecs.T))}\")\n",
    "    \n",
    "    print(f\"\\nSingular values와 eigenvalues가 같은가?\")\n",
    "    print(f\"s: {s}\")\n",
    "    print(f\"eigenvals: {eigenvals}\")\n",
    "    print(f\"같은가? {np.allclose(s, np.abs(eigenvals))}\")\n",
    "\n",
    "svd_vs_eigen_general()"
   ]
  },
  {
   "cell_type": "code",
   "execution_count": 31,
   "id": "53bf1cde",
   "metadata": {},
   "outputs": [
    {
     "name": "stdout",
     "output_type": "stream",
     "text": [
      "86\n"
     ]
    }
   ],
   "source": [
    "number_matrix1 = [[1, 2, 3],\n",
    "                                  [4, 5, 6]]\n",
    "number_matrix2 = [[1, 2],\n",
    "                                  [3, 4],\n",
    "                                  [5, 6]]\n",
    "# TODO : einsum을 활용하여 두 행렬의 곱을 계산하는 코드를 완성하세요.\n",
    "mid1 = np.einsum('ik, kj -> ij', number_matrix1, number_matrix2)\n",
    "# TODO : einsum을 활용하여 행렬의 대각성분의 합을 계산하는 코드를 완성하세요.\n",
    "answer1 = np.einsum('ii -> ', mid1)\n",
    "print(answer1)"
   ]
  }
 ],
 "metadata": {
  "kernelspec": {
   "display_name": "boostcamp (3.12.3)",
   "language": "python",
   "name": "python3"
  },
  "language_info": {
   "codemirror_mode": {
    "name": "ipython",
    "version": 3
   },
   "file_extension": ".py",
   "mimetype": "text/x-python",
   "name": "python",
   "nbconvert_exporter": "python",
   "pygments_lexer": "ipython3",
   "version": "3.12.3"
  }
 },
 "nbformat": 4,
 "nbformat_minor": 5
}
