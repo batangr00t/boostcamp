{
 "cells": [
  {
   "cell_type": "markdown",
   "id": "dc124984",
   "metadata": {},
   "source": [
    "# Week 6 - 주간학습정리 - RecSys\n",
    "\n",
    "## 깨달은 내용\n",
    "* 통계 기본\n",
    "* CLT(Central Limit Theorem)\n",
    "* distribution 종류별 특성\n",
    "* conjugate prior\n",
    "* VAE(Variational Auto Encoder)\n",
    "* VI(Variational Inference)\n",
    "* EM(Expectation Maximization)"
   ]
  },
  {
   "cell_type": "markdown",
   "id": "d3b0e6f2",
   "metadata": {},
   "source": [
    "## 통계 기본\n",
    "* random variable\n",
    "* distribution"
   ]
  },
  {
   "cell_type": "markdown",
   "id": "9f19bf7d",
   "metadata": {},
   "source": [
    "## CLT(Central Limit Theorem)"
   ]
  },
  {
   "cell_type": "markdown",
   "id": "49905e07",
   "metadata": {},
   "source": [
    "## distribution 종류별 특성\n",
    "* bernoulli distribution(베르누이 분포)\n",
    "    * [위키백과 - 베르누이 분포](https://ko.wikipedia.org/wiki/%EB%B2%A0%EB%A5%B4%EB%88%84%EC%9D%B4_%EB%B6%84%ED%8F%AC)\n",
    "    * 정의\n",
    "        * 베르누이 분포 : 베르누이 확률변수의 분포\n",
    "        * 베르누이 시행(Bernoulli trial) : 결과가 두가지 중 하나로 나오는 시행 \n",
    "        * 베르누이 확률변수 : 베르누이 시행의 결과를 실수 1(성공), 0(실패)로 변환하는 함수\n",
    "    * \"확률변수 X가 베르누이 분포를 따른다\"\n",
    "        $$\n",
    "            X \\sim \\text{Bern}(x;\\mu)\n",
    "        $$\n",
    "    * 베르누이분포의 확률질량함수\n",
    "        $$\n",
    "        \\begin{align*}\n",
    "            \\text{Bern}(x;\\mu) = \\mu^x(1-\\mu)^{(1-x)}\n",
    "        \\end{align*}\n",
    "        $$\n",
    "    * 이산 확률 분포\n",
    "        * X는 1, 0 이며 두 변수의 확률은 $p(1) = \\mu, \\quad p(0) = 1 - \\mu$ 임\n"
   ]
  },
  {
   "cell_type": "markdown",
   "id": "2eb13067",
   "metadata": {},
   "source": [
    "* binomial distribution(이항 본포)\n",
    "    * [위키백과 - 이항 분포](https://ko.wikipedia.org/wiki/%EC%9D%B4%ED%95%AD_%EB%B6%84%ED%8F%AC)\n",
    "    * 정의\n",
    "        * 이항 분포 : 이항확률 변수의 분포\n",
    "        * 이항확률변수(binomial random variable) : 성공확률이 p인 베르누이 시행을 n번 반복했을 때, 성공이 나타날 횟수\n",
    "        * 각 시행은 서로 독립\n",
    "    * \"확률변수 X가 이항분포를 따른다\"\n",
    "        $$\n",
    "            X \\sim \\text{Bin}(x;n,p)\n",
    "        $$\n",
    "    * 이항분포의 확률질량함수\n",
    "        $$\n",
    "        \\begin{align*}\n",
    "            \\text{Bin}(x;n,p) &= \\binom n x \\; p^x(1-p)^{n-x} \\\\\n",
    "            \\binom n x &= \\dfrac{n!}{x!(n-x)!}\n",
    "        \\end{align*}\n",
    "        $$\n"
   ]
  },
  {
   "cell_type": "markdown",
   "id": "4464c291",
   "metadata": {},
   "source": [
    "* multinominal distribution(다항 분포)\n",
    "    * [위키백과 - 다항 분포](https://ko.wikipedia.org/wiki/%EB%8B%A4%ED%95%AD_%EB%B6%84%ED%8F%AC)\n",
    "    * 정의\n",
    "        * 다항 분포는 여러 개의 값을 가질 수 있는 독립 확률변수들에 대한 확률분포\n",
    "        * 여러 번의 독립적 시행에서 각각의 값이 특정 횟수가 나타날 확률을 정의\n",
    "        * 다항 분포의 차원이 2인 경우 이항분포가 된다.\n",
    "        * 확률변수: 각 범주가 나타날 횟수\n",
    "    * \"확률변수 X가 다항분포를 따른다\"\n",
    "        $$\n",
    "            X \\sim \\text{Multinomial}(x_1,x_2,...,x_k;n,p_1,p_2,...,p_k)\n",
    "        $$\n",
    "    * 다항분포의 확률질량함수\n",
    "        $$\n",
    "        \\begin{align*}\n",
    "            &\\text{Multinomial}(x_1,x_2,...,x_k;n,p_1,p_2,...,p_k) \\\\\n",
    "            &= {n \\choose x_1, x_2, \\ldots ,x_k} \n",
    "               \\cdot p_1^{x_1} \\cdot p_2^{x_2} \\cdot \\ldots \\cdot p_k^{x_k} \\\\\n",
    "            &= \\frac{{n!}}{{x_1! \\cdot x_2! \\cdot \\ldots \\cdot x_k!}}\n",
    "               \\cdot p_1^{x_1} \\cdot p_2^{x_2} \\cdot \\ldots \\cdot p_k^{x_k} \\\\ \\\\\n",
    "            & n = x_1 + x_2 + \\ldots + x_k \\\\\n",
    "            & p_1 + p_2 + \\ldots + p_k = 1\n",
    "        \\end{align*}\n",
    "        $$"
   ]
  },
  {
   "cell_type": "markdown",
   "id": "e9d7cfd5",
   "metadata": {},
   "source": [
    "* uniform distribution(균등 분포)\n",
    "* normal distribution(정규 분포)\n",
    "* multivariate normal distribution(다변량 정규분포)\n",
    "* beta distribution(베타 분포)\n",
    "* gamma distribution(감마 분포)\n",
    "    * [위키백과 - 감마 분포](https://ko.wikipedia.org/wiki/%EA%B0%90%EB%A7%88_%EB%B6%84%ED%8F%AC)\n",
    "* poisson distribution(포아송 분포)\n",
    "* exponential distribution(지수분포)\n",
    "* dirichlet distribution(디리클레 분포)\n",
    "    * [위키백과 - 디리클레 분포](https://ko.wikipedia.org/wiki/%EB%94%94%EB%A6%AC%ED%81%B4%EB%A0%88_%EB%B6%84%ED%8F%AC)\n",
    "* wishart distribution(위샤트 분포)\n",
    "    * [위키백과 - 위샤트 분포](https://en.wikipedia.org/wiki/Wishart_distribution)"
   ]
  },
  {
   "cell_type": "markdown",
   "id": "1c2d72eb",
   "metadata": {},
   "source": [
    "## conjugate prior\n",
    "* 종합 정리\n",
    "\n",
    "| likelyhood $p(\\mathcal{D}\\|\\theta)$ | prior distribution $p(\\theta)$ | posterior distribution $p(\\theta\\|\\mathcal{D})$ |\n",
    "|-----|-----|-----|\n",
    "|bernoulli|beta|beta|\n",
    "|binomial|beta|beta|\n",
    "|poisson|gamma|gamma|\n",
    "|exponential|gamma|gamma|\n",
    "|normal|normal|normal|\n",
    "|multinomial| dirichlet| dirichlet |\n"
   ]
  },
  {
   "cell_type": "markdown",
   "id": "777694af",
   "metadata": {},
   "source": [
    "## VAE\n",
    "* VAE는 오토인코더다\n",
    "    * VAE, AE 동일 구조 : 입력 변수 x --인코더--> latent variable z  --디코더--> x' 출력\n",
    "* AE와 VAE의 차이 점\n",
    "    * AE\n",
    "        * 주어진 데이터가 있을 때 중요 feature들로 압축된 manifold를 찾는 것\n",
    "        * 즉, 차원 축소에 목적이 있음 ( 특징 추출 )\n",
    "        * 점추정이며, latent space가 불연속적임\n",
    "        * 찾은 feature로 x'을 생성할 수 있으나, 학습하지 않은 중간영역에선 의미 없는 출력 생성\n",
    "        * [Autoencoder가 뭘까? (ligntning으로 구현하여 확인)](autoencoder.ipynb)\n",
    "    * VAE\n",
    "        * VAE는 분포 추정이며(분포의 파라미터를 출력 함), latent space 가 연속적이라 할 수 있음\n",
    "        * 인코더가 확률분포$(\\mu, \\sigma^2)$을 추정, 주어진 데이터의 특징을 확률 분포로 압축\n",
    "        * 차원 축소와 생성에 목적이 있음\n",
    "        * 디코더는 latent space의 분포에서 sampling 하여 디코딩 수행\n",
    "* 구조\n",
    "    * 인코더\n",
    "        * 데이터가 주어지면 그 data x의 특징을 가장 잘 나타낸 latent space의 한 원소를 찾는다. \n",
    "        * 그 원소의 형태는 $N(\\mu, \\Sigma)$이며, $\\mu$와 $\\Sigma$를 찾는 것이 목표가 된다.\n",
    "    * latent space\n",
    "        * latent space의 원소는 Noraml 분포다.\n",
    "        * 즉, latent spaces는 $N(\\mu, \\Sigma)$ 들의 집합이다.\n",
    "        * 또한, $N(\\mu, \\Sigma)$에서 하나의 원소를 sampling 하면 $(z_1, z_2, ... ,z_d)$ 형태의 벡터다.\n",
    "        * 더 정확히 말하면 latent space의 한 원소는 d차원의 mutivariate gaussian disbribution이다.\n",
    "        * 차원 별로 평균도 다르며, var도 다르다. 각 차원은 서로 독립이라 가정한다.\n",
    "        * 다시 종합하면\n",
    "            * $z \\sim N(\\mu, \\Sigma)$\n",
    "            * $z = ( z_1, z_2, ... ,z_d )$\n",
    "            * $\\mu = ( \\mu_1, \\mu_2, ... , \\mu_d )$\n",
    "            * $\\Sigma = \\text{diag}( \\sigma_1^2, \\sigma_2^2, ... , \\sigma_d^2 )$\n",
    "    * 디코더\n",
    "        * latent space의 한 element로 출력 데이터를 생성한다.\n",
    "        * 한 element는 $N(\\mu, \\Sigma)$ 형태이며, 분포의 파라미터를 디코딩 하는 것이 아니다.\n",
    "        * 한 분포에서 샘플링 한 후 얻어진 $(z_1, z_2, ... ,z_d)$를 디코딩 하여 출력 데이터를 생성한다.\n",
    "    \n"
   ]
  }
 ],
 "metadata": {
  "kernelspec": {
   "display_name": "boostcamp (3.12.3)",
   "language": "python",
   "name": "python3"
  },
  "language_info": {
   "name": "python",
   "version": "3.12.3"
  }
 },
 "nbformat": 4,
 "nbformat_minor": 5
}
