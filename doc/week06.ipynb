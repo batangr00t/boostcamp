{
 "cells": [
  {
   "cell_type": "markdown",
   "id": "dc124984",
   "metadata": {},
   "source": [
    "# Week 6 - 주간학습정리 - RecSys\n",
    "\n",
    "## 깨달은 내용\n",
    "* 통계 기본\n",
    "* distribution 종류별 특성\n",
    "* CLT(Central Limit Theorem)\n",
    "* conjugate prior"
   ]
  },
  {
   "cell_type": "markdown",
   "id": "d3b0e6f2",
   "metadata": {},
   "source": [
    "## 통계 기본\n",
    "* random variable\n",
    "* distribution"
   ]
  },
  {
   "cell_type": "markdown",
   "id": "49905e07",
   "metadata": {},
   "source": [
    "## distribution 종류별 특성\n",
    "* bernoulli distribution(베르누이 분포)\n",
    "    * [위키벡과 - 베르누이 분포](https://ko.wikipedia.org/wiki/%EB%B2%A0%EB%A5%B4%EB%88%84%EC%9D%B4_%EB%B6%84%ED%8F%AC)\n",
    "* binomial distribution(이항 본포)\n",
    "* uniform distribution(균등 분포)\n",
    "* normal distribution(정규 분포)\n",
    "* beta distribution(베타 분포)\n",
    "* gamma distribution(감마 분포)\n",
    "    * [위키벡과 - 감마 분포](https://ko.wikipedia.org/wiki/%EA%B0%90%EB%A7%88_%EB%B6%84%ED%8F%AC)\n",
    "* poisson distribution(포아송 분포)\n",
    "* exponential distribution(지수분포)\n",
    "* multinominal distribution(다항 분포)\n",
    "* dirichlet distribution(디리클레 분포)"
   ]
  },
  {
   "cell_type": "markdown",
   "id": "9f19bf7d",
   "metadata": {},
   "source": [
    "## CLT(Central Limit Theorem)"
   ]
  },
  {
   "cell_type": "markdown",
   "id": "1c2d72eb",
   "metadata": {},
   "source": [
    "## conjugate prior\n",
    "* 종합 정리\n",
    "\n",
    "| likelyhood $p(\\mathcal{D}\\|\\theta)$ | prior distribution $p(\\theta)$ | posterior distribution $p(\\theta\\|\\mathcal{D})$ |\n",
    "|-----|-----|-----|\n",
    "|bernoulli|beta|beta|\n",
    "|binomial|beta|beta|\n",
    "|poisson|gamma|gamma|\n",
    "|exponential|gamma|gamma|\n",
    "|normal|normal|normal|\n",
    "|multinomial| dirichlet| dirichlet |\n"
   ]
  }
 ],
 "metadata": {
  "kernelspec": {
   "display_name": "boostcamp (3.12.3)",
   "language": "python",
   "name": "python3"
  },
  "language_info": {
   "name": "python",
   "version": "3.12.3"
  }
 },
 "nbformat": 4,
 "nbformat_minor": 5
}
