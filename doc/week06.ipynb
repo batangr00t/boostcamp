{
 "cells": [
  {
   "cell_type": "markdown",
   "id": "dc124984",
   "metadata": {},
   "source": [
    "# Week 6 - 주간학습정리 - RecSys\n",
    "\n",
    "## 깨달은 내용\n",
    "* 통계 기본\n",
    "* distribution 종류별 특성\n",
    "* CLT(Central Limit Theorem)\n",
    "* conjugate prior"
   ]
  },
  {
   "cell_type": "markdown",
   "id": "d3b0e6f2",
   "metadata": {},
   "source": [
    "## 통계 기본\n",
    "* random variable\n",
    "* distribution"
   ]
  },
  {
   "cell_type": "markdown",
   "id": "49905e07",
   "metadata": {},
   "source": [
    "## distribution 종류별 특성\n",
    "* bernoulli distribution(베르누이 분포)\n",
    "    * [위키백과 - 베르누이 분포](https://ko.wikipedia.org/wiki/%EB%B2%A0%EB%A5%B4%EB%88%84%EC%9D%B4_%EB%B6%84%ED%8F%AC)\n",
    "    * 정의\n",
    "        * 베르누이 분포 : 베르누이 확률변수의 분포\n",
    "        * 베르누이 시행(Bernoulli trial) : 결과가 두가지 중 하나로 나오는 시행 \n",
    "        * 베르누이 확률변수 : 베르누이 시행의 결과를 실수 1(성공), 0(실패)로 변환하는 함수\n",
    "    * \"확률변수 X가 베르누이 분포를 따른다\"\n",
    "        $$\n",
    "            X \\sim \\text{Bern}(x;\\mu)\n",
    "        $$\n",
    "    * 베르누이분포의 확률질량함수\n",
    "        $$\n",
    "        \\begin{align*}\n",
    "            \\text{Bern}(x;\\mu) = \\mu^x(1-\\mu)^{(1-x)}\n",
    "        \\end{align*}\n",
    "        $$\n",
    "    * 이산 확률 분포\n",
    "        * X는 1, 0 이며 두 변수의 확률은 $p(1) = \\mu, \\quad p(0) = 1 - \\mu$ 임\n"
   ]
  },
  {
   "cell_type": "markdown",
   "id": "2eb13067",
   "metadata": {},
   "source": [
    "* binomial distribution(이항 본포)\n",
    "    * [위키백과 - 이항 분포](https://ko.wikipedia.org/wiki/%EC%9D%B4%ED%95%AD_%EB%B6%84%ED%8F%AC)\n",
    "    * 정의\n",
    "        * 이항 분포 : 이항확률 변수의 분포\n",
    "        * 이항확률변수(binomial random variable) : 성공확률이 p인 베르누이 시행을 n번 반복했을 때, 성공이 나타날 횟수\n",
    "        * 각 시행은 서로 독립\n",
    "    * \"확률변수 X가 이항분포를 따른다\"\n",
    "        $$\n",
    "            X \\sim \\text{Bin}(x;n,p)\n",
    "        $$\n",
    "    * 이항분포의 확률질량함수\n",
    "        $$\n",
    "        \\begin{align*}\n",
    "            \\text{Bin}(x;n,p) &= \\binom n x \\; p^x(1-p)^{n-x} \\\\\n",
    "            \\binom n x &= \\dfrac{n!}{x!(n-x)!}\n",
    "        \\end{align*}\n",
    "        $$\n"
   ]
  },
  {
   "cell_type": "markdown",
   "id": "4464c291",
   "metadata": {},
   "source": [
    "* multinominal distribution(다항 분포)\n",
    "    * [위키백과 - 다항 분포](https://ko.wikipedia.org/wiki/%EB%8B%A4%ED%95%AD_%EB%B6%84%ED%8F%AC)\n",
    "    * 정의\n",
    "        * 다항 분포는 여러 개의 값을 가질 수 있는 독립 확률변수들에 대한 확률분포\n",
    "        * 여러 번의 독립적 시행에서 각각의 값이 특정 횟수가 나타날 확률을 정의\n",
    "        * 다항 분포의 차원이 2인 경우 이항분포가 된다.\n",
    "        * 확률변수: 각 범주가 나타날 횟수\n",
    "    * \"확률변수 X가 다항분포를 따른다\"\n",
    "        $$\n",
    "            X \\sim \\text{Multinomial}(x_1,x_2,...,x_k;n,p_1,p_2,...,p_k)\n",
    "        $$\n",
    "    * 다항분포의 확률질량함수\n",
    "        $$\n",
    "        \\begin{align*}\n",
    "            &\\text{Multinomial}(x_1,x_2,...,x_k;n,p_1,p_2,...,p_k) \\\\\n",
    "            &= {n \\choose x_1, x_2, \\ldots ,x_k} \n",
    "               \\cdot p_1^{x_1} \\cdot p_2^{x_2} \\cdot \\ldots \\cdot p_k^{x_k} \\\\\n",
    "            &= \\frac{{n!}}{{x_1! \\cdot x_2! \\cdot \\ldots \\cdot x_k!}}\n",
    "               \\cdot p_1^{x_1} \\cdot p_2^{x_2} \\cdot \\ldots \\cdot p_k^{x_k} \\\\ \\\\\n",
    "            & n = x_1 + x_2 + \\ldots + x_k \\\\\n",
    "            & p_1 + p_2 + \\ldots + p_k = 1\n",
    "        \\end{align*}\n",
    "        $$"
   ]
  },
  {
   "cell_type": "markdown",
   "id": "e9d7cfd5",
   "metadata": {},
   "source": [
    "* uniform distribution(균등 분포)\n",
    "* normal distribution(정규 분포)\n",
    "* multivariate normal distribution(다변량 정규분포)\n",
    "* beta distribution(베타 분포)\n",
    "* gamma distribution(감마 분포)\n",
    "    * [위키백과 - 감마 분포](https://ko.wikipedia.org/wiki/%EA%B0%90%EB%A7%88_%EB%B6%84%ED%8F%AC)\n",
    "* poisson distribution(포아송 분포)\n",
    "* exponential distribution(지수분포)\n",
    "* dirichlet distribution(디리클레 분포)"
   ]
  },
  {
   "cell_type": "markdown",
   "id": "9f19bf7d",
   "metadata": {},
   "source": [
    "## CLT(Central Limit Theorem)"
   ]
  },
  {
   "cell_type": "markdown",
   "id": "1c2d72eb",
   "metadata": {},
   "source": [
    "## conjugate prior\n",
    "* 종합 정리\n",
    "\n",
    "| likelyhood $p(\\mathcal{D}\\|\\theta)$ | prior distribution $p(\\theta)$ | posterior distribution $p(\\theta\\|\\mathcal{D})$ |\n",
    "|-----|-----|-----|\n",
    "|bernoulli|beta|beta|\n",
    "|binomial|beta|beta|\n",
    "|poisson|gamma|gamma|\n",
    "|exponential|gamma|gamma|\n",
    "|normal|normal|normal|\n",
    "|multinomial| dirichlet| dirichlet |\n"
   ]
  }
 ],
 "metadata": {
  "kernelspec": {
   "display_name": "boostcamp (3.12.3)",
   "language": "python",
   "name": "python3"
  },
  "language_info": {
   "name": "python",
   "version": "3.12.3"
  }
 },
 "nbformat": 4,
 "nbformat_minor": 5
}
