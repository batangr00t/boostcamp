{
 "cells": [
  {
   "cell_type": "markdown",
   "id": "dc124984",
   "metadata": {},
   "source": [
    "# Week 6 - 주간학습정리 - RecSys\n",
    "\n",
    "## 깨달은 내용\n",
    "* 통계 기본\n",
    "* CLT(Central Limit Theorem)\n",
    "* conjugate prior"
   ]
  },
  {
   "cell_type": "markdown",
   "id": "d3b0e6f2",
   "metadata": {},
   "source": [
    "## 통계 기본\n",
    "* random variable\n",
    "* distribution\n",
    "* distribution 종류별 특성"
   ]
  }
 ],
 "metadata": {
  "kernelspec": {
   "display_name": "boostcamp (3.12.3)",
   "language": "python",
   "name": "python3"
  },
  "language_info": {
   "name": "python",
   "version": "3.12.3"
  }
 },
 "nbformat": 4,
 "nbformat_minor": 5
}
