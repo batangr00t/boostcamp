{
 "cells": [
  {
   "cell_type": "markdown",
   "id": "a872c503",
   "metadata": {},
   "source": [
    "# Week 3 - 주간학습정리 - ML LifeCycle\n",
    "\n",
    "![Machine Learning Development Lifecycle](https://miro.medium.com/v2/resize:fit:1400/format:webp/0*3I4P4pkL1xySQS9B.png)"
   ]
  },
  {
   "cell_type": "markdown",
   "id": "754dd271",
   "metadata": {},
   "source": [
    "## 깨달은 내용\n",
    "* 머신러닝 Lifecycle\n",
    "* Cross Entropy\n",
    "\n",
    "## 머신러닝 Lifecycle\n",
    "* 성능 좋은 모델이 일주일이 멀다하고 쏟아지는 현재 시점에서 Model Exploration이 더 중요해짐\n",
    "* process\n",
    "    1. Planning : 정량젹 목표 필요(정확도, F1점수, AUC) => 타당성 보고서\n",
    "    1. Data Preparation : 수집 및 라벨링, 정리, 처리, 관리 => Cleaned Data\n",
    "    1. Mode Engineering : 모델 아키텍처 구축, 메트릭 정의 , 학습/검증 => 모델압축, 결과해석\n",
    "    1. Mode Evaluation : 프로덕트 확인, 법준수 체크, 견고성테스트 => 배포 결정\n",
    "    1. Model Deployment : 크라우드/로컬 서버에 배포 => 서비스 런칭\n",
    "    1. Monitoring and Maintenace : 잘 동작하나?, 목표 달성에 도움을 주나?, 고객만족도?, 성능은?\n",
    "\n",
    "## Cross Entropy \n",
    "* BCE는 CE의 특수한 경우임, 서로 다른 것이 아님\n",
    "    * CE ( or Categorical Cross-Entropy ) 는 muli-class에 분류에 활용\n",
    "    * BCE( Binary Cross-Entropy )는 클래스 2개로 분류할 때 사용\n",
    "* 계산식\n",
    "    $$\n",
    "    \\begin{align*}\n",
    "    L_{CE} & = - \\frac{1}{N} \\sum_{i=1}^{N} \\sum_{k=1}^{K} y_{ik}log(\\hat{y}_{ik}), \\quad \\text{ N samples and K classes} \\\\\n",
    "    & \\quad \\sum_{k=1}^{K} y_{ik} = 1, y_{ik} \\geq 0, \\hat{y}_{ik} = probability \\\\\n",
    "    \\\\\n",
    "    L_{BCE} & = - \\frac{1}{N} \\sum_{i=1}^{N} [\\underbrace{y_i log(\\hat{y}_{i})}_{\\text{ a class 100\\%, [b class 0\\%]}}\n",
    "    +\\underbrace{(1-y_i)log(1-\\hat{y}_{i})}_{\\text{ a class 0\\%, [b class 100\\%]}}], \n",
    "    \\quad \\text{ N samples and 2 classes} \\\\\n",
    "    & \\quad \\hat{y}_{i} = probability \\\\\n",
    "    \\end{align*}\n",
    "    $$"
   ]
  }
 ],
 "metadata": {
  "kernelspec": {
   "display_name": "boostcamp",
   "language": "python",
   "name": "python3"
  },
  "language_info": {
   "codemirror_mode": {
    "name": "ipython",
    "version": 3
   },
   "file_extension": ".py",
   "mimetype": "text/x-python",
   "name": "python",
   "nbconvert_exporter": "python",
   "pygments_lexer": "ipython3",
   "version": "3.12.11"
  }
 },
 "nbformat": 4,
 "nbformat_minor": 5
}
